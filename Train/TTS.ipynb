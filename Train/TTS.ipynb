{
 "cells": [
  {
   "attachments": {},
   "cell_type": "markdown",
   "metadata": {},
   "source": [
    "#### Text To Speech using Google Text to Speech API"
   ]
  },
  {
   "cell_type": "code",
   "execution_count": 1,
   "metadata": {},
   "outputs": [],
   "source": [
    "# Import Google TTS API\n",
    "import gtts as gt\n",
    "import os "
   ]
  },
  {
   "cell_type": "code",
   "execution_count": 3,
   "metadata": {},
   "outputs": [
    {
     "name": "stdout",
     "output_type": "stream",
     "text": [
      "['இரண்டு ஐந்து ', 'ஐந்து எட்டு ஒன்பது ஒன்பது இரண்டு ', 'ஏழு ', 'மூன்று எட்டு இரண்டு ', 'நான்கு ஒன்பது பூஜ்யம் ஒன்பது மூன்று பூஜ்யம் இரண்டு ']\n"
     ]
    }
   ],
   "source": [
    "# Get the text to be converted to speech\n",
    "src_path = \"../data/ASR/\"\n",
    "with open(src_path + \"MT_Labels.txt\", \"r\") as f:\n",
    "    utts = f.read().splitlines()\n",
    "    \n",
    "print(utts[:5])"
   ]
  },
  {
   "cell_type": "code",
   "execution_count": 4,
   "metadata": {},
   "outputs": [
    {
     "ename": "gTTSError",
     "evalue": "429 (Too Many Requests) from TTS API. Probable cause: Unknown",
     "output_type": "error",
     "traceback": [
      "\u001b[0;31m---------------------------------------------------------------------------\u001b[0m",
      "\u001b[0;31mHTTPError\u001b[0m                                 Traceback (most recent call last)",
      "File \u001b[0;32m~/miniconda3/envs/pytorch-wsl/lib/python3.8/site-packages/gtts/tts.py:269\u001b[0m, in \u001b[0;36mgTTS.stream\u001b[0;34m(self)\u001b[0m\n\u001b[1;32m    267\u001b[0m     log\u001b[39m.\u001b[39mdebug(\u001b[39m\"\u001b[39m\u001b[39mstatus-\u001b[39m\u001b[39m%i\u001b[39;00m\u001b[39m: \u001b[39m\u001b[39m%s\u001b[39;00m\u001b[39m\"\u001b[39m, idx, r\u001b[39m.\u001b[39mstatus_code)\n\u001b[0;32m--> 269\u001b[0m     r\u001b[39m.\u001b[39;49mraise_for_status()\n\u001b[1;32m    270\u001b[0m \u001b[39mexcept\u001b[39;00m requests\u001b[39m.\u001b[39mexceptions\u001b[39m.\u001b[39mHTTPError \u001b[39mas\u001b[39;00m e:  \u001b[39m# pragma: no cover\u001b[39;00m\n\u001b[1;32m    271\u001b[0m     \u001b[39m# Request successful, bad response\u001b[39;00m\n",
      "File \u001b[0;32m~/miniconda3/envs/pytorch-wsl/lib/python3.8/site-packages/requests/models.py:1021\u001b[0m, in \u001b[0;36mResponse.raise_for_status\u001b[0;34m(self)\u001b[0m\n\u001b[1;32m   1020\u001b[0m \u001b[39mif\u001b[39;00m http_error_msg:\n\u001b[0;32m-> 1021\u001b[0m     \u001b[39mraise\u001b[39;00m HTTPError(http_error_msg, response\u001b[39m=\u001b[39m\u001b[39mself\u001b[39m)\n",
      "\u001b[0;31mHTTPError\u001b[0m: 429 Client Error: Too Many Requests for url: https://www.google.com/sorry/index?continue=https://translate.google.com/_/TranslateWebserverUi/data/batchexecute&q=EgTaufhCGL-IsqAGIjB5V6qri8G54NG1TzO8yopCX5UgtGTaWUH1M6fYNG2R-1gpuo3VLrqcVwCUQobiME8yAXI",
      "\nDuring handling of the above exception, another exception occurred:\n",
      "\u001b[0;31mgTTSError\u001b[0m                                 Traceback (most recent call last)",
      "\u001b[1;32m/home/rutts07/IIITH_Files/SSMT/A2/train/TTS.ipynb Cell 4\u001b[0m in \u001b[0;36m<cell line: 3>\u001b[0;34m()\u001b[0m\n\u001b[1;32m      <a href='vscode-notebook-cell://wsl%2Bubuntu-20.04/home/rutts07/IIITH_Files/SSMT/A2/train/TTS.ipynb#W3sdnNjb2RlLXJlbW90ZQ%3D%3D?line=0'>1</a>\u001b[0m \u001b[39m# Convert text to speech   \u001b[39;00m\n\u001b[1;32m      <a href='vscode-notebook-cell://wsl%2Bubuntu-20.04/home/rutts07/IIITH_Files/SSMT/A2/train/TTS.ipynb#W3sdnNjb2RlLXJlbW90ZQ%3D%3D?line=1'>2</a>\u001b[0m tts \u001b[39m=\u001b[39m gt\u001b[39m.\u001b[39mgTTS(text\u001b[39m=\u001b[39mutts[\u001b[39m1\u001b[39m], lang\u001b[39m=\u001b[39m\u001b[39m'\u001b[39m\u001b[39mta\u001b[39m\u001b[39m'\u001b[39m)\n\u001b[0;32m----> <a href='vscode-notebook-cell://wsl%2Bubuntu-20.04/home/rutts07/IIITH_Files/SSMT/A2/train/TTS.ipynb#W3sdnNjb2RlLXJlbW90ZQ%3D%3D?line=2'>3</a>\u001b[0m tts\u001b[39m.\u001b[39;49msave(\u001b[39m\"\u001b[39;49m\u001b[39mtest.mp3\u001b[39;49m\u001b[39m\"\u001b[39;49m)\n",
      "File \u001b[0;32m~/miniconda3/envs/pytorch-wsl/lib/python3.8/site-packages/gtts/tts.py:325\u001b[0m, in \u001b[0;36mgTTS.save\u001b[0;34m(self, savefile)\u001b[0m\n\u001b[1;32m    315\u001b[0m \u001b[39m\"\"\"Do the TTS API request and write result to file.\u001b[39;00m\n\u001b[1;32m    316\u001b[0m \n\u001b[1;32m    317\u001b[0m \u001b[39mArgs:\u001b[39;00m\n\u001b[0;32m   (...)\u001b[0m\n\u001b[1;32m    322\u001b[0m \n\u001b[1;32m    323\u001b[0m \u001b[39m\"\"\"\u001b[39;00m\n\u001b[1;32m    324\u001b[0m \u001b[39mwith\u001b[39;00m \u001b[39mopen\u001b[39m(\u001b[39mstr\u001b[39m(savefile), \u001b[39m\"\u001b[39m\u001b[39mwb\u001b[39m\u001b[39m\"\u001b[39m) \u001b[39mas\u001b[39;00m f:\n\u001b[0;32m--> 325\u001b[0m     \u001b[39mself\u001b[39;49m\u001b[39m.\u001b[39;49mwrite_to_fp(f)\n\u001b[1;32m    326\u001b[0m     log\u001b[39m.\u001b[39mdebug(\u001b[39m\"\u001b[39m\u001b[39mSaved to \u001b[39m\u001b[39m%s\u001b[39;00m\u001b[39m\"\u001b[39m, savefile)\n",
      "File \u001b[0;32m~/miniconda3/envs/pytorch-wsl/lib/python3.8/site-packages/gtts/tts.py:306\u001b[0m, in \u001b[0;36mgTTS.write_to_fp\u001b[0;34m(self, fp)\u001b[0m\n\u001b[1;32m    294\u001b[0m \u001b[39m\"\"\"Do the TTS API request(s) and write bytes to a file-like object.\u001b[39;00m\n\u001b[1;32m    295\u001b[0m \n\u001b[1;32m    296\u001b[0m \u001b[39mArgs:\u001b[39;00m\n\u001b[0;32m   (...)\u001b[0m\n\u001b[1;32m    302\u001b[0m \n\u001b[1;32m    303\u001b[0m \u001b[39m\"\"\"\u001b[39;00m\n\u001b[1;32m    305\u001b[0m \u001b[39mtry\u001b[39;00m:\n\u001b[0;32m--> 306\u001b[0m     \u001b[39mfor\u001b[39;00m idx, decoded \u001b[39min\u001b[39;00m \u001b[39menumerate\u001b[39m(\u001b[39mself\u001b[39m\u001b[39m.\u001b[39mstream()):\n\u001b[1;32m    307\u001b[0m         fp\u001b[39m.\u001b[39mwrite(decoded)\n\u001b[1;32m    308\u001b[0m         log\u001b[39m.\u001b[39mdebug(\u001b[39m\"\u001b[39m\u001b[39mpart-\u001b[39m\u001b[39m%i\u001b[39;00m\u001b[39m written to \u001b[39m\u001b[39m%s\u001b[39;00m\u001b[39m\"\u001b[39m, idx, fp)\n",
      "File \u001b[0;32m~/miniconda3/envs/pytorch-wsl/lib/python3.8/site-packages/gtts/tts.py:273\u001b[0m, in \u001b[0;36mgTTS.stream\u001b[0;34m(self)\u001b[0m\n\u001b[1;32m    270\u001b[0m \u001b[39mexcept\u001b[39;00m requests\u001b[39m.\u001b[39mexceptions\u001b[39m.\u001b[39mHTTPError \u001b[39mas\u001b[39;00m e:  \u001b[39m# pragma: no cover\u001b[39;00m\n\u001b[1;32m    271\u001b[0m     \u001b[39m# Request successful, bad response\u001b[39;00m\n\u001b[1;32m    272\u001b[0m     log\u001b[39m.\u001b[39mdebug(\u001b[39mstr\u001b[39m(e))\n\u001b[0;32m--> 273\u001b[0m     \u001b[39mraise\u001b[39;00m gTTSError(tts\u001b[39m=\u001b[39m\u001b[39mself\u001b[39m, response\u001b[39m=\u001b[39mr)\n\u001b[1;32m    274\u001b[0m \u001b[39mexcept\u001b[39;00m requests\u001b[39m.\u001b[39mexceptions\u001b[39m.\u001b[39mRequestException \u001b[39mas\u001b[39;00m e:  \u001b[39m# pragma: no cover\u001b[39;00m\n\u001b[1;32m    275\u001b[0m     \u001b[39m# Request failed\u001b[39;00m\n\u001b[1;32m    276\u001b[0m     log\u001b[39m.\u001b[39mdebug(\u001b[39mstr\u001b[39m(e))\n",
      "\u001b[0;31mgTTSError\u001b[0m: 429 (Too Many Requests) from TTS API. Probable cause: Unknown"
     ]
    }
   ],
   "source": [
    "# Convert text to speech   \n",
    "tts = gt.gTTS(text=utts[1], lang='ta')\n",
    "tts.save(\"test.mp3\")"
   ]
  }
 ],
 "metadata": {
  "kernelspec": {
   "display_name": "pytorch-wsl",
   "language": "python",
   "name": "python3"
  },
  "language_info": {
   "codemirror_mode": {
    "name": "ipython",
    "version": 3
   },
   "file_extension": ".py",
   "mimetype": "text/x-python",
   "name": "python",
   "nbconvert_exporter": "python",
   "pygments_lexer": "ipython3",
   "version": "3.8.13"
  },
  "orig_nbformat": 4
 },
 "nbformat": 4,
 "nbformat_minor": 2
}
